{
 "cells": [
  {
   "cell_type": "markdown",
   "metadata": {},
   "source": [
    "---\n",
    "# library\n",
    "---"
   ]
  },
  {
   "cell_type": "code",
   "execution_count": 1,
   "metadata": {},
   "outputs": [],
   "source": [
    "import json\n",
    "import requests\n",
    "import pandas as pd\n",
    "from datetime import datetime\n",
    "import time"
   ]
  },
  {
   "cell_type": "markdown",
   "metadata": {},
   "source": [
    "---\n",
    "# code\n",
    "---"
   ]
  },
  {
   "cell_type": "code",
   "execution_count": null,
   "metadata": {},
   "outputs": [],
   "source": [
    "def get_public_holidays(start_year, end_year, country_code):\n",
    "    url = \"https://date.nager.at/api/v3/publicholidays/\"\n",
    "    yearly_data = {}\n",
    "\n",
    "    for year in range(start_year, end_year + 1):\n",
    "        api_url = f\"{url}{year}/{country_code}\"\n",
    "\n",
    "        try:\n",
    "            response = requests.get(api_url)\n",
    "            if response.status_code == 200:\n",
    "                data = response.json()\n",
    "                yearly_data[year] = data\n",
    "            else:\n",
    "                print(f\"Failed to retrieve data for {year}, status code: {response.status_code}\")\n",
    "        except requests.exceptions.RequestException as e:\n",
    "            print(f\"Request failed: {e}\")\n",
    "\n",
    "        time.sleep(1)  # Para evitar sobrecargar el servidor con solicitudes\n",
    "\n",
    "    return yearly_data\n",
    "\n",
    "\n",
    "def generar_calendario(anio_inicio, anio_fin):\n",
    "    fecha_inicio = datetime(anio_inicio, 1, 1)\n",
    "    fecha_fin = datetime(anio_fin, 12, 31)\n",
    "    fechas = pd.date_range(start=fecha_inicio, end=fecha_fin)\n",
    "\n",
    "    calendario_df = pd.DataFrame({\n",
    "        'fecha': fechas,\n",
    "        'año': fechas.year,\n",
    "        'mes': fechas.month,\n",
    "        'semana': fechas.isocalendar().week,\n",
    "        'dia_de_la_semana': fechas.dayofweek + 1  # 1 = Lunes, 7 = Domingo\n",
    "    })\n",
    "\n",
    "    calendario_df.reset_index(drop=True, inplace=True)\n",
    "\n",
    "    return calendario_df"
   ]
  },
  {
   "cell_type": "code",
   "execution_count": null,
   "metadata": {},
   "outputs": [],
   "source": [
    "start_year = 2024\n",
    "end_year = start_year + 5\n",
    "country_code = \"CO\"\n",
    "\n",
    "public_holidays_data = get_public_holidays(start_year, end_year, country_code)\n",
    "calendario = generar_calendario(start_year, end_year)\n",
    "festivos_list = [\n",
    "    {'fecha': festivo['date'], 'nombre_del_festivo': festivo['localName']}\n",
    "    for anio, festivos in public_holidays_data.items()\n",
    "    for festivo in festivos\n",
    "]\n",
    "festivos_df = pd.DataFrame(festivos_list)\n",
    "festivos_df['fecha'] = pd.to_datetime(festivos_df['fecha'])\n",
    "calendario = calendario.merge(festivos_df, on='fecha', how='left')\n",
    "calendario['festivo'] = calendario['nombre_del_festivo'].apply(lambda x: 'Sí' if pd.notna(x) else 'No')\n",
    "calendario['dia_habil'] = calendario.apply(\n",
    "    lambda row: 'Sí' if row['dia_de_la_semana'] <= 5 and row['festivo'] == 'No' else 'No',\n",
    "    axis=1\n",
    ")\n"
   ]
  },
  {
   "cell_type": "code",
   "execution_count": 5,
   "metadata": {},
   "outputs": [
    {
     "data": {
      "text/html": [
       "<div>\n",
       "<style scoped>\n",
       "    .dataframe tbody tr th:only-of-type {\n",
       "        vertical-align: middle;\n",
       "    }\n",
       "\n",
       "    .dataframe tbody tr th {\n",
       "        vertical-align: top;\n",
       "    }\n",
       "\n",
       "    .dataframe thead th {\n",
       "        text-align: right;\n",
       "    }\n",
       "</style>\n",
       "<table border=\"1\" class=\"dataframe\">\n",
       "  <thead>\n",
       "    <tr style=\"text-align: right;\">\n",
       "      <th></th>\n",
       "      <th>fecha</th>\n",
       "      <th>año</th>\n",
       "      <th>mes</th>\n",
       "      <th>semana</th>\n",
       "      <th>dia_de_la_semana</th>\n",
       "      <th>nombre_del_festivo</th>\n",
       "      <th>festivo</th>\n",
       "      <th>dia_habil</th>\n",
       "    </tr>\n",
       "  </thead>\n",
       "  <tbody>\n",
       "    <tr>\n",
       "      <th>0</th>\n",
       "      <td>2024-01-01</td>\n",
       "      <td>2024</td>\n",
       "      <td>1</td>\n",
       "      <td>1</td>\n",
       "      <td>1</td>\n",
       "      <td>Año Nuevo</td>\n",
       "      <td>Sí</td>\n",
       "      <td>No</td>\n",
       "    </tr>\n",
       "    <tr>\n",
       "      <th>1</th>\n",
       "      <td>2024-01-02</td>\n",
       "      <td>2024</td>\n",
       "      <td>1</td>\n",
       "      <td>1</td>\n",
       "      <td>2</td>\n",
       "      <td>NaN</td>\n",
       "      <td>No</td>\n",
       "      <td>Sí</td>\n",
       "    </tr>\n",
       "    <tr>\n",
       "      <th>2</th>\n",
       "      <td>2024-01-03</td>\n",
       "      <td>2024</td>\n",
       "      <td>1</td>\n",
       "      <td>1</td>\n",
       "      <td>3</td>\n",
       "      <td>NaN</td>\n",
       "      <td>No</td>\n",
       "      <td>Sí</td>\n",
       "    </tr>\n",
       "    <tr>\n",
       "      <th>3</th>\n",
       "      <td>2024-01-04</td>\n",
       "      <td>2024</td>\n",
       "      <td>1</td>\n",
       "      <td>1</td>\n",
       "      <td>4</td>\n",
       "      <td>NaN</td>\n",
       "      <td>No</td>\n",
       "      <td>Sí</td>\n",
       "    </tr>\n",
       "    <tr>\n",
       "      <th>4</th>\n",
       "      <td>2024-01-05</td>\n",
       "      <td>2024</td>\n",
       "      <td>1</td>\n",
       "      <td>1</td>\n",
       "      <td>5</td>\n",
       "      <td>NaN</td>\n",
       "      <td>No</td>\n",
       "      <td>Sí</td>\n",
       "    </tr>\n",
       "  </tbody>\n",
       "</table>\n",
       "</div>"
      ],
      "text/plain": [
       "       fecha   año  mes  semana  dia_de_la_semana nombre_del_festivo festivo  \\\n",
       "0 2024-01-01  2024    1       1                 1          Año Nuevo      Sí   \n",
       "1 2024-01-02  2024    1       1                 2                NaN      No   \n",
       "2 2024-01-03  2024    1       1                 3                NaN      No   \n",
       "3 2024-01-04  2024    1       1                 4                NaN      No   \n",
       "4 2024-01-05  2024    1       1                 5                NaN      No   \n",
       "\n",
       "  dia_habil  \n",
       "0        No  \n",
       "1        Sí  \n",
       "2        Sí  \n",
       "3        Sí  \n",
       "4        Sí  "
      ]
     },
     "execution_count": 5,
     "metadata": {},
     "output_type": "execute_result"
    }
   ],
   "source": [
    "calendario.head()"
   ]
  },
  {
   "cell_type": "code",
   "execution_count": 6,
   "metadata": {},
   "outputs": [],
   "source": [
    "calendario.to_csv(\"calendario.csv\", index=False, encoding=\"utf-8\")"
   ]
  }
 ],
 "metadata": {
  "kernelspec": {
   "display_name": ".venv",
   "language": "python",
   "name": "python3"
  },
  "language_info": {
   "codemirror_mode": {
    "name": "ipython",
    "version": 3
   },
   "file_extension": ".py",
   "mimetype": "text/x-python",
   "name": "python",
   "nbconvert_exporter": "python",
   "pygments_lexer": "ipython3",
   "version": "3.10.12"
  }
 },
 "nbformat": 4,
 "nbformat_minor": 2
}
